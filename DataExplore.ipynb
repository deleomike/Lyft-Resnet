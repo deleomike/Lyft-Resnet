{
 "cells": [
  {
   "cell_type": "code",
   "execution_count": 1,
   "metadata": {},
   "outputs": [],
   "source": [
    "import torch\n",
    "import os\n",
    "from l5kit.configs import load_config_data\n",
    "\n",
    "from models.LyftNet.LyftNet import LyftNet, LyftLoss\n",
    "from models.LyftNet.MNASBackbone import MnasBackbone\n",
    "from models.resnet152.loss_functions import pytorch_neg_multi_log_likelihood_batch\n",
    "from l5kit.evaluation import write_pred_csv\n",
    "\n",
    "from l5kit.data import LocalDataManager, ChunkedDataset\n",
    "from l5kit.rasterization import build_rasterizer\n",
    "from l5kit.dataset import AgentDataset\n",
    "from models.LyftNet.Kinetic.KineticDataset import KineticDataset\n",
    "\n",
    "from torch.utils.data import DataLoader\n",
    "\n",
    "import os\n",
    "import torch\n",
    "\n",
    "from tqdm import tqdm\n",
    "import torch.nn as nn\n",
    "import torch.optim as optim\n",
    "import numpy as np\n",
    "\n",
    "import pandas as pd\n",
    "\n",
    "data_path = \"/home/michael/Workspace/Lyft/data/\"\n",
    "\n",
    "device = torch.device(\"cuda:0\" if torch.cuda.is_available() else \"cpu\")\n",
    "config = load_config_data(\"/home/michael/Workspace/Lyft/models/LyftNet/config_lyftnet.yaml\")"
   ]
  },
  {
   "cell_type": "code",
   "execution_count": 2,
   "metadata": {},
   "outputs": [
    {
     "name": "stdout",
     "output_type": "stream",
     "text": [
      "{'format_version': 4, 'model_params': {'model_architecture': 'lyft-net', 'history_num_frames': 10, 'history_step_size': 1, 'history_delta_time': 0.1, 'future_num_frames': 50, 'future_step_size': 1, 'future_delta_time': 0.1}, 'raster_params': {'raster_size': [300, 300], 'pixel_size': [0.5, 0.5], 'ego_center': [0.25, 0.5], 'map_type': 'py_semantic', 'satellite_map_key': 'aerial_map/aerial_map.png', 'semantic_map_key': 'semantic_map/semantic_map.pb', 'dataset_meta_key': 'meta.json', 'filter_agents_threshold': 0.5, 'disable_traffic_light_faces': False}, 'train_data_loader': {'key': 'scenes/train_full.zarr', 'batch_size': 75, 'shuffle': True, 'num_workers': 16}, 'test_data_loader': {'key': 'scenes/test.zarr', 'batch_size': 75, 'shuffle': False, 'num_workers': 32}, 'train_params': {'checkpoint_every_n_steps': 10000, 'max_num_steps': 1500, 'eval_every_n_steps': 10000}}\n"
     ]
    }
   ],
   "source": [
    "# set env variable for data\n",
    "os.environ[\"L5KIT_DATA_FOLDER\"] = data_path\n",
    "dm = LocalDataManager(None)\n",
    "# get config\n",
    "cfg = config\n",
    "print(cfg)"
   ]
  },
  {
   "cell_type": "code",
   "execution_count": 164,
   "metadata": {},
   "outputs": [
    {
     "ename": "KeyboardInterrupt",
     "evalue": "",
     "output_type": "error",
     "traceback": [
      "\u001b[0;31m---------------------------------------------------------------------------\u001b[0m",
      "\u001b[0;31mKeyboardInterrupt\u001b[0m                         Traceback (most recent call last)",
      "\u001b[0;32m<ipython-input-164-614e0c49b725>\u001b[0m in \u001b[0;36m<module>\u001b[0;34m\u001b[0m\n\u001b[1;32m     11\u001b[0m \u001b[0;34m\u001b[0m\u001b[0m\n\u001b[1;32m     12\u001b[0m \u001b[0;34m\u001b[0m\u001b[0m\n\u001b[0;32m---> 13\u001b[0;31m agents = pd.DataFrame.from_records(train_zarr.agents,\n\u001b[0m\u001b[1;32m     14\u001b[0m                                    columns=['centroid', 'extent', 'yaw', 'velocity', 'track_id',\n\u001b[1;32m     15\u001b[0m                                             'label_probabilities'])\n",
      "\u001b[0;32m~/anaconda3/envs/Lyft/lib/python3.8/site-packages/pandas/core/frame.py\u001b[0m in \u001b[0;36mfrom_records\u001b[0;34m(cls, data, index, exclude, columns, coerce_float, nrows)\u001b[0m\n\u001b[1;32m   1789\u001b[0m             \u001b[0marr_columns\u001b[0m \u001b[0;34m=\u001b[0m \u001b[0mcolumns\u001b[0m\u001b[0;34m\u001b[0m\u001b[0;34m\u001b[0m\u001b[0m\n\u001b[1;32m   1790\u001b[0m         \u001b[0;32melse\u001b[0m\u001b[0;34m:\u001b[0m\u001b[0;34m\u001b[0m\u001b[0;34m\u001b[0m\u001b[0m\n\u001b[0;32m-> 1791\u001b[0;31m             \u001b[0marrays\u001b[0m\u001b[0;34m,\u001b[0m \u001b[0marr_columns\u001b[0m \u001b[0;34m=\u001b[0m \u001b[0mto_arrays\u001b[0m\u001b[0;34m(\u001b[0m\u001b[0mdata\u001b[0m\u001b[0;34m,\u001b[0m \u001b[0mcolumns\u001b[0m\u001b[0;34m,\u001b[0m \u001b[0mcoerce_float\u001b[0m\u001b[0;34m=\u001b[0m\u001b[0mcoerce_float\u001b[0m\u001b[0;34m)\u001b[0m\u001b[0;34m\u001b[0m\u001b[0;34m\u001b[0m\u001b[0m\n\u001b[0m\u001b[1;32m   1792\u001b[0m \u001b[0;34m\u001b[0m\u001b[0m\n\u001b[1;32m   1793\u001b[0m             \u001b[0marr_columns\u001b[0m \u001b[0;34m=\u001b[0m \u001b[0mensure_index\u001b[0m\u001b[0;34m(\u001b[0m\u001b[0marr_columns\u001b[0m\u001b[0;34m)\u001b[0m\u001b[0;34m\u001b[0m\u001b[0;34m\u001b[0m\u001b[0m\n",
      "\u001b[0;32m~/anaconda3/envs/Lyft/lib/python3.8/site-packages/pandas/core/internals/construction.py\u001b[0m in \u001b[0;36mto_arrays\u001b[0;34m(data, columns, coerce_float, dtype)\u001b[0m\n\u001b[1;32m    545\u001b[0m     \u001b[0;32melse\u001b[0m\u001b[0;34m:\u001b[0m\u001b[0;34m\u001b[0m\u001b[0;34m\u001b[0m\u001b[0m\n\u001b[1;32m    546\u001b[0m         \u001b[0;31m# last ditch effort\u001b[0m\u001b[0;34m\u001b[0m\u001b[0;34m\u001b[0m\u001b[0;34m\u001b[0m\u001b[0m\n\u001b[0;32m--> 547\u001b[0;31m         \u001b[0mdata\u001b[0m \u001b[0;34m=\u001b[0m \u001b[0;34m[\u001b[0m\u001b[0mtuple\u001b[0m\u001b[0;34m(\u001b[0m\u001b[0mx\u001b[0m\u001b[0;34m)\u001b[0m \u001b[0;32mfor\u001b[0m \u001b[0mx\u001b[0m \u001b[0;32min\u001b[0m \u001b[0mdata\u001b[0m\u001b[0;34m]\u001b[0m\u001b[0;34m\u001b[0m\u001b[0;34m\u001b[0m\u001b[0m\n\u001b[0m\u001b[1;32m    548\u001b[0m         \u001b[0;32mreturn\u001b[0m \u001b[0m_list_to_arrays\u001b[0m\u001b[0;34m(\u001b[0m\u001b[0mdata\u001b[0m\u001b[0;34m,\u001b[0m \u001b[0mcolumns\u001b[0m\u001b[0;34m,\u001b[0m \u001b[0mcoerce_float\u001b[0m\u001b[0;34m=\u001b[0m\u001b[0mcoerce_float\u001b[0m\u001b[0;34m,\u001b[0m \u001b[0mdtype\u001b[0m\u001b[0;34m=\u001b[0m\u001b[0mdtype\u001b[0m\u001b[0;34m)\u001b[0m\u001b[0;34m\u001b[0m\u001b[0;34m\u001b[0m\u001b[0m\n\u001b[1;32m    549\u001b[0m \u001b[0;34m\u001b[0m\u001b[0m\n",
      "\u001b[0;32m~/anaconda3/envs/Lyft/lib/python3.8/site-packages/pandas/core/internals/construction.py\u001b[0m in \u001b[0;36m<listcomp>\u001b[0;34m(.0)\u001b[0m\n\u001b[1;32m    545\u001b[0m     \u001b[0;32melse\u001b[0m\u001b[0;34m:\u001b[0m\u001b[0;34m\u001b[0m\u001b[0;34m\u001b[0m\u001b[0m\n\u001b[1;32m    546\u001b[0m         \u001b[0;31m# last ditch effort\u001b[0m\u001b[0;34m\u001b[0m\u001b[0;34m\u001b[0m\u001b[0;34m\u001b[0m\u001b[0m\n\u001b[0;32m--> 547\u001b[0;31m         \u001b[0mdata\u001b[0m \u001b[0;34m=\u001b[0m \u001b[0;34m[\u001b[0m\u001b[0mtuple\u001b[0m\u001b[0;34m(\u001b[0m\u001b[0mx\u001b[0m\u001b[0;34m)\u001b[0m \u001b[0;32mfor\u001b[0m \u001b[0mx\u001b[0m \u001b[0;32min\u001b[0m \u001b[0mdata\u001b[0m\u001b[0;34m]\u001b[0m\u001b[0;34m\u001b[0m\u001b[0;34m\u001b[0m\u001b[0m\n\u001b[0m\u001b[1;32m    548\u001b[0m         \u001b[0;32mreturn\u001b[0m \u001b[0m_list_to_arrays\u001b[0m\u001b[0;34m(\u001b[0m\u001b[0mdata\u001b[0m\u001b[0;34m,\u001b[0m \u001b[0mcolumns\u001b[0m\u001b[0;34m,\u001b[0m \u001b[0mcoerce_float\u001b[0m\u001b[0;34m=\u001b[0m\u001b[0mcoerce_float\u001b[0m\u001b[0;34m,\u001b[0m \u001b[0mdtype\u001b[0m\u001b[0;34m=\u001b[0m\u001b[0mdtype\u001b[0m\u001b[0;34m)\u001b[0m\u001b[0;34m\u001b[0m\u001b[0;34m\u001b[0m\u001b[0m\n\u001b[1;32m    549\u001b[0m \u001b[0;34m\u001b[0m\u001b[0m\n",
      "\u001b[0;31mKeyboardInterrupt\u001b[0m: "
     ]
    }
   ],
   "source": [
    "# ===== INIT DATASET\n",
    "train_cfg = cfg[\"train_data_loader\"]\n",
    "\n",
    "# Rasterizer\n",
    "rasterizer = build_rasterizer(cfg, dm)\n",
    "\n",
    "# Train dataset/dataloader\n",
    "train_zarr = ChunkedDataset(dm.require(train_cfg[\"key\"])).open()\n",
    "# train_zarr = ChunkedDataset(dm.require(\"scenes/sample.zarr\")).open()\n",
    "train_dataset = KineticDataset(cfg, train_zarr, rasterizer)\n",
    "\n",
    "\n",
    "agents = pd.DataFrame.from_records(train_zarr.agents,\n",
    "                                   columns=['centroid', 'extent', 'yaw', 'velocity', 'track_id',\n",
    "                                            'label_probabilities'])\n",
    "agents.set_index('track_id')\n",
    "display(train_zarr.agents)"
   ]
  },
  {
   "cell_type": "code",
   "execution_count": null,
   "metadata": {},
   "outputs": [],
   "source": [
    "display(agents)"
   ]
  },
  {
   "cell_type": "code",
   "execution_count": null,
   "metadata": {},
   "outputs": [],
   "source": []
  },
  {
   "cell_type": "code",
   "execution_count": 162,
   "metadata": {},
   "outputs": [
    {
     "data": {
      "image/png": "[encoded data removed]",
      "text/plain": [
       "<Figure size 432x288 with 1 Axes>"
      ]
     },
     "metadata": {
      "needs_background": "light"
     },
     "output_type": "display_data"
    },
    {
     "data": {
      "text/plain": [
       "[<matplotlib.lines.Line2D at 0x7f32a836a5e0>]"
      ]
     },
     "execution_count": 162,
     "metadata": {},
     "output_type": "execute_result"
    },
    {
     "data": {
      "image/png": "[encoded data removed]",
      "text/plain": [
       "<Figure size 432x288 with 1 Axes>"
      ]
     },
     "metadata": {
      "needs_background": "light"
     },
     "output_type": "display_data"
    }
   ],
   "source": [
    "import numpy as np\n",
    "import matplotlib.pyplot as plt\n",
    "groupID = agents.drop(\"yaw\", axis=1).drop(\"label_probabilities\", axis=1).drop(\"extent\", axis=1).groupby('track_id')\n",
    "# for state, frame in groupID:\n",
    "#      print(f\"First 2 entries for {state!r}\")\n",
    "#      print(\"------------------------\")\n",
    "#      print(frame.head(2), end=\"\\n\\n\")\n",
    "\n",
    "vel_t = groupID.get_group(2)[\"velocity\"]\n",
    "pos = groupID.get_group(2)['centroid']\n",
    "\n",
    "vel = (pos.iloc[:-1].values - pos.iloc[1:].values) / 0.1\n",
    "\n",
    "def convert(vel):\n",
    "    velx = []\n",
    "    vely = []\n",
    "    for velocity in vel:\n",
    "        velx.append(velocity[0])\n",
    "        vely.append(velocity[1])\n",
    "    return velx, vely\n",
    "\n",
    "\n",
    "velx, vely = convert(vel)\n",
    "\n",
    "plt.plot(velx, vely, '.')\n",
    "\n",
    "velx, vely = convert(vel_t)\n",
    "\n",
    "plt.plot(velx, vely, '.')\n",
    "plt.show()\n",
    "\n",
    "posx, posy = convert(pos)\n",
    "\n",
    "plt.plot(posx, posy, '.')"
   ]
  },
  {
   "cell_type": "code",
   "execution_count": 160,
   "metadata": {},
   "outputs": [
    {
     "data": {
      "image/png": "[encoded data removed]",
      "text/plain": [
       "<Figure size 432x288 with 1 Axes>"
      ]
     },
     "metadata": {
      "needs_background": "light"
     },
     "output_type": "display_data"
    },
    {
     "data": {
      "text/html": [
       "<div>\n",
       "<style scoped>\n",
       "    .dataframe tbody tr th:only-of-type {\n",
       "        vertical-align: middle;\n",
       "    }\n",
       "\n",
       "    .dataframe tbody tr th {\n",
       "        vertical-align: top;\n",
       "    }\n",
       "\n",
       "    .dataframe thead tr th {\n",
       "        text-align: left;\n",
       "    }\n",
       "</style>\n",
       "<table border=\"1\" class=\"dataframe\">\n",
       "  <thead>\n",
       "    <tr>\n",
       "      <th></th>\n",
       "      <th>centroid</th>\n",
       "      <th>velocity</th>\n",
       "    </tr>\n",
       "    <tr>\n",
       "      <th></th>\n",
       "      <th>count</th>\n",
       "      <th>count</th>\n",
       "    </tr>\n",
       "  </thead>\n",
       "  <tbody>\n",
       "    <tr>\n",
       "      <th>max</th>\n",
       "      <td>14922.000000</td>\n",
       "      <td>14922.000000</td>\n",
       "    </tr>\n",
       "    <tr>\n",
       "      <th>min</th>\n",
       "      <td>1.000000</td>\n",
       "      <td>1.000000</td>\n",
       "    </tr>\n",
       "    <tr>\n",
       "      <th>mean</th>\n",
       "      <td>743.516294</td>\n",
       "      <td>743.516294</td>\n",
       "    </tr>\n",
       "    <tr>\n",
       "      <th>std</th>\n",
       "      <td>942.354177</td>\n",
       "      <td>942.354177</td>\n",
       "    </tr>\n",
       "  </tbody>\n",
       "</table>\n",
       "</div>"
      ],
      "text/plain": [
       "          centroid      velocity\n",
       "             count         count\n",
       "max   14922.000000  14922.000000\n",
       "min       1.000000      1.000000\n",
       "mean    743.516294    743.516294\n",
       "std     942.354177    942.354177"
      ]
     },
     "metadata": {},
     "output_type": "display_data"
    },
    {
     "data": {
      "text/html": [
       "<div>\n",
       "<style scoped>\n",
       "    .dataframe tbody tr th:only-of-type {\n",
       "        vertical-align: middle;\n",
       "    }\n",
       "\n",
       "    .dataframe tbody tr th {\n",
       "        vertical-align: top;\n",
       "    }\n",
       "\n",
       "    .dataframe thead th {\n",
       "        text-align: right;\n",
       "    }\n",
       "</style>\n",
       "<table border=\"1\" class=\"dataframe\">\n",
       "  <thead>\n",
       "    <tr style=\"text-align: right;\">\n",
       "      <th></th>\n",
       "      <th>count</th>\n",
       "      <th>mean</th>\n",
       "    </tr>\n",
       "    <tr>\n",
       "      <th>track_id</th>\n",
       "      <th></th>\n",
       "      <th></th>\n",
       "    </tr>\n",
       "  </thead>\n",
       "  <tbody>\n",
       "    <tr>\n",
       "      <th>1</th>\n",
       "      <td>14922</td>\n",
       "      <td>[5.202215194702148, 5.646387577056885]</td>\n",
       "    </tr>\n",
       "    <tr>\n",
       "      <th>2</th>\n",
       "      <td>12377</td>\n",
       "      <td>[5.032926559448242, 5.223700046539307]</td>\n",
       "    </tr>\n",
       "    <tr>\n",
       "      <th>3</th>\n",
       "      <td>10179</td>\n",
       "      <td>[4.230915069580078, 4.482477188110352]</td>\n",
       "    </tr>\n",
       "    <tr>\n",
       "      <th>4</th>\n",
       "      <td>8224</td>\n",
       "      <td>[3.206543207168579, 4.166661739349365]</td>\n",
       "    </tr>\n",
       "    <tr>\n",
       "      <th>5</th>\n",
       "      <td>9108</td>\n",
       "      <td>[3.8044257164001465, 4.215086936950684]</td>\n",
       "    </tr>\n",
       "    <tr>\n",
       "      <th>...</th>\n",
       "      <td>...</td>\n",
       "      <td>...</td>\n",
       "    </tr>\n",
       "    <tr>\n",
       "      <th>2543</th>\n",
       "      <td>2</td>\n",
       "      <td>[0.0, 0.0]</td>\n",
       "    </tr>\n",
       "    <tr>\n",
       "      <th>2544</th>\n",
       "      <td>1</td>\n",
       "      <td>[0.0, 0.0]</td>\n",
       "    </tr>\n",
       "    <tr>\n",
       "      <th>2545</th>\n",
       "      <td>1</td>\n",
       "      <td>[0.0, 0.0]</td>\n",
       "    </tr>\n",
       "    <tr>\n",
       "      <th>2546</th>\n",
       "      <td>1</td>\n",
       "      <td>[0.0, 0.0]</td>\n",
       "    </tr>\n",
       "    <tr>\n",
       "      <th>2547</th>\n",
       "      <td>1</td>\n",
       "      <td>[0.0, 0.0]</td>\n",
       "    </tr>\n",
       "  </tbody>\n",
       "</table>\n",
       "<p>2547 rows × 2 columns</p>\n",
       "</div>"
      ],
      "text/plain": [
       "          count                                     mean\n",
       "track_id                                                \n",
       "1         14922   [5.202215194702148, 5.646387577056885]\n",
       "2         12377   [5.032926559448242, 5.223700046539307]\n",
       "3         10179   [4.230915069580078, 4.482477188110352]\n",
       "4          8224   [3.206543207168579, 4.166661739349365]\n",
       "5          9108  [3.8044257164001465, 4.215086936950684]\n",
       "...         ...                                      ...\n",
       "2543          2                               [0.0, 0.0]\n",
       "2544          1                               [0.0, 0.0]\n",
       "2545          1                               [0.0, 0.0]\n",
       "2546          1                               [0.0, 0.0]\n",
       "2547          1                               [0.0, 0.0]\n",
       "\n",
       "[2547 rows x 2 columns]"
      ]
     },
     "execution_count": 160,
     "metadata": {},
     "output_type": "execute_result"
    }
   ],
   "source": [
    "counts = groupID.agg([\"count\"])\n",
    "display(counts.agg([\"max\", \"min\", \"mean\", \"std\"]))\n",
    "\n",
    "groupID.agg(count=(\"centroid\", lambda x: len(x)), mean=(\"velocity\", lambda x: np.vstack(x).std(axis=0).tolist()))"
   ]
  },
  {
   "cell_type": "code",
   "execution_count": 143,
   "metadata": {},
   "outputs": [
    {
     "data": {
      "text/plain": [
       "-0.04888916015625"
      ]
     },
     "execution_count": 143,
     "metadata": {},
     "output_type": "execute_result"
    }
   ],
   "source": [
    "717.6123657226562 -717.6612548828125"
   ]
  },
  {
   "cell_type": "code",
   "execution_count": 36,
   "metadata": {},
   "outputs": [
    {
     "data": {
      "text/html": [
       "<div>\n",
       "<style scoped>\n",
       "    .dataframe tbody tr th:only-of-type {\n",
       "        vertical-align: middle;\n",
       "    }\n",
       "\n",
       "    .dataframe tbody tr th {\n",
       "        vertical-align: top;\n",
       "    }\n",
       "\n",
       "    .dataframe thead th {\n",
       "        text-align: right;\n",
       "    }\n",
       "</style>\n",
       "<table border=\"1\" class=\"dataframe\">\n",
       "  <thead>\n",
       "    <tr style=\"text-align: right;\">\n",
       "      <th></th>\n",
       "      <th>0</th>\n",
       "      <th>1</th>\n",
       "      <th>2</th>\n",
       "      <th>3</th>\n",
       "      <th>4</th>\n",
       "      <th>5</th>\n",
       "    </tr>\n",
       "  </thead>\n",
       "  <tbody>\n",
       "    <tr>\n",
       "      <th>0</th>\n",
       "      <td>[665.0342407226562, -2207.51220703125]</td>\n",
       "      <td>[4.3913283, 1.8138304, 1.5909758]</td>\n",
       "      <td>1.016675</td>\n",
       "      <td>[0.0, 0.0]</td>\n",
       "      <td>1</td>\n",
       "      <td>[0.0, 0.0, 0.0, 1.0, 0.0, 0.0, 0.0, 0.0, 0.0, ...</td>\n",
       "    </tr>\n",
       "    <tr>\n",
       "      <th>1</th>\n",
       "      <td>[717.6612548828125, -2173.760009765625]</td>\n",
       "      <td>[5.150925, 1.9530917, 2.04021]</td>\n",
       "      <td>-0.783224</td>\n",
       "      <td>[0.0, 0.0]</td>\n",
       "      <td>2</td>\n",
       "      <td>[0.0, 0.0, 0.0, 1.0, 0.0, 0.0, 0.0, 0.0, 0.0, ...</td>\n",
       "    </tr>\n",
       "    <tr>\n",
       "      <th>2</th>\n",
       "      <td>[730.681396484375, -2180.678955078125]</td>\n",
       "      <td>[2.9482825, 1.4842174, 1.1125067]</td>\n",
       "      <td>-0.321747</td>\n",
       "      <td>[0.0, 0.0]</td>\n",
       "      <td>3</td>\n",
       "      <td>[0.0, 0.0, 0.0, 1.0, 0.0, 0.0, 0.0, 0.0, 0.0, ...</td>\n",
       "    </tr>\n",
       "    <tr>\n",
       "      <th>3</th>\n",
       "      <td>[671.2536010742188, -2204.745361328125]</td>\n",
       "      <td>[1.7067024, 0.9287868, 0.6282158]</td>\n",
       "      <td>0.785501</td>\n",
       "      <td>[0.0, 0.0]</td>\n",
       "      <td>4</td>\n",
       "      <td>[0.0, 1.0, 0.0, 0.0, 0.0, 0.0, 0.0, 0.0, 0.0, ...</td>\n",
       "    </tr>\n",
       "    <tr>\n",
       "      <th>4</th>\n",
       "      <td>[669.7763061523438, -2213.004638671875]</td>\n",
       "      <td>[0.25109944, 0.6343781, 1.654377]</td>\n",
       "      <td>1.492359</td>\n",
       "      <td>[0.0, 0.0]</td>\n",
       "      <td>5</td>\n",
       "      <td>[0.0, 1.0, 0.0, 0.0, 0.0, 0.0, 0.0, 0.0, 0.0, ...</td>\n",
       "    </tr>\n",
       "    <tr>\n",
       "      <th>...</th>\n",
       "      <td>...</td>\n",
       "      <td>...</td>\n",
       "      <td>...</td>\n",
       "      <td>...</td>\n",
       "      <td>...</td>\n",
       "      <td>...</td>\n",
       "    </tr>\n",
       "    <tr>\n",
       "      <th>1893731</th>\n",
       "      <td>[278.2374267578125, 50.95383071899414]</td>\n",
       "      <td>[2.651326, 16.242971, 1.8459053]</td>\n",
       "      <td>0.728024</td>\n",
       "      <td>[0.0, 0.0]</td>\n",
       "      <td>1478</td>\n",
       "      <td>[0.0, 1.0, 0.0, 0.0, 0.0, 0.0, 0.0, 0.0, 0.0, ...</td>\n",
       "    </tr>\n",
       "    <tr>\n",
       "      <th>1893732</th>\n",
       "      <td>[321.0816345214844, 35.29806137084961]</td>\n",
       "      <td>[0.34564313, 0.7559242, 0.5863746]</td>\n",
       "      <td>0.582523</td>\n",
       "      <td>[0.09659984, -0.23340665]</td>\n",
       "      <td>1479</td>\n",
       "      <td>[0.0, 1.0, 0.0, 0.0, 0.0, 0.0, 0.0, 0.0, 0.0, ...</td>\n",
       "    </tr>\n",
       "    <tr>\n",
       "      <th>1893733</th>\n",
       "      <td>[227.16343688964844, 73.9880599975586]</td>\n",
       "      <td>[2.024245, 0.3544109, 0.8435698]</td>\n",
       "      <td>0.942606</td>\n",
       "      <td>[-0.091657355, 3.9186544]</td>\n",
       "      <td>1481</td>\n",
       "      <td>[0.0, 0.0, 0.0, 1.0, 0.0, 0.0, 0.0, 0.0, 0.0, ...</td>\n",
       "    </tr>\n",
       "    <tr>\n",
       "      <th>1893734</th>\n",
       "      <td>[213.86314392089844, 75.33246612548828]</td>\n",
       "      <td>[0.51277804, 1.2809446, 1.1334285]</td>\n",
       "      <td>-0.809572</td>\n",
       "      <td>[0.0, 0.0]</td>\n",
       "      <td>1483</td>\n",
       "      <td>[0.0, 0.0, 0.0, 1.0, 0.0, 0.0, 0.0, 0.0, 0.0, ...</td>\n",
       "    </tr>\n",
       "    <tr>\n",
       "      <th>1893735</th>\n",
       "      <td>[293.89666748046875, 37.077972412109375]</td>\n",
       "      <td>[6.1831617, 20.55534, 1.9852563]</td>\n",
       "      <td>0.730223</td>\n",
       "      <td>[0.0, 0.0]</td>\n",
       "      <td>1485</td>\n",
       "      <td>[0.0, 1.0, 0.0, 0.0, 0.0, 0.0, 0.0, 0.0, 0.0, ...</td>\n",
       "    </tr>\n",
       "  </tbody>\n",
       "</table>\n",
       "<p>1893736 rows × 6 columns</p>\n",
       "</div>"
      ],
      "text/plain": [
       "                                                0  \\\n",
       "0          [665.0342407226562, -2207.51220703125]   \n",
       "1         [717.6612548828125, -2173.760009765625]   \n",
       "2          [730.681396484375, -2180.678955078125]   \n",
       "3         [671.2536010742188, -2204.745361328125]   \n",
       "4         [669.7763061523438, -2213.004638671875]   \n",
       "...                                           ...   \n",
       "1893731    [278.2374267578125, 50.95383071899414]   \n",
       "1893732    [321.0816345214844, 35.29806137084961]   \n",
       "1893733    [227.16343688964844, 73.9880599975586]   \n",
       "1893734   [213.86314392089844, 75.33246612548828]   \n",
       "1893735  [293.89666748046875, 37.077972412109375]   \n",
       "\n",
       "                                          1         2  \\\n",
       "0         [4.3913283, 1.8138304, 1.5909758]  1.016675   \n",
       "1            [5.150925, 1.9530917, 2.04021] -0.783224   \n",
       "2         [2.9482825, 1.4842174, 1.1125067] -0.321747   \n",
       "3         [1.7067024, 0.9287868, 0.6282158]  0.785501   \n",
       "4         [0.25109944, 0.6343781, 1.654377]  1.492359   \n",
       "...                                     ...       ...   \n",
       "1893731    [2.651326, 16.242971, 1.8459053]  0.728024   \n",
       "1893732  [0.34564313, 0.7559242, 0.5863746]  0.582523   \n",
       "1893733    [2.024245, 0.3544109, 0.8435698]  0.942606   \n",
       "1893734  [0.51277804, 1.2809446, 1.1334285] -0.809572   \n",
       "1893735    [6.1831617, 20.55534, 1.9852563]  0.730223   \n",
       "\n",
       "                                 3     4  \\\n",
       "0                       [0.0, 0.0]     1   \n",
       "1                       [0.0, 0.0]     2   \n",
       "2                       [0.0, 0.0]     3   \n",
       "3                       [0.0, 0.0]     4   \n",
       "4                       [0.0, 0.0]     5   \n",
       "...                            ...   ...   \n",
       "1893731                 [0.0, 0.0]  1478   \n",
       "1893732  [0.09659984, -0.23340665]  1479   \n",
       "1893733  [-0.091657355, 3.9186544]  1481   \n",
       "1893734                 [0.0, 0.0]  1483   \n",
       "1893735                 [0.0, 0.0]  1485   \n",
       "\n",
       "                                                         5  \n",
       "0        [0.0, 0.0, 0.0, 1.0, 0.0, 0.0, 0.0, 0.0, 0.0, ...  \n",
       "1        [0.0, 0.0, 0.0, 1.0, 0.0, 0.0, 0.0, 0.0, 0.0, ...  \n",
       "2        [0.0, 0.0, 0.0, 1.0, 0.0, 0.0, 0.0, 0.0, 0.0, ...  \n",
       "3        [0.0, 1.0, 0.0, 0.0, 0.0, 0.0, 0.0, 0.0, 0.0, ...  \n",
       "4        [0.0, 1.0, 0.0, 0.0, 0.0, 0.0, 0.0, 0.0, 0.0, ...  \n",
       "...                                                    ...  \n",
       "1893731  [0.0, 1.0, 0.0, 0.0, 0.0, 0.0, 0.0, 0.0, 0.0, ...  \n",
       "1893732  [0.0, 1.0, 0.0, 0.0, 0.0, 0.0, 0.0, 0.0, 0.0, ...  \n",
       "1893733  [0.0, 0.0, 0.0, 1.0, 0.0, 0.0, 0.0, 0.0, 0.0, ...  \n",
       "1893734  [0.0, 0.0, 0.0, 1.0, 0.0, 0.0, 0.0, 0.0, 0.0, ...  \n",
       "1893735  [0.0, 1.0, 0.0, 0.0, 0.0, 0.0, 0.0, 0.0, 0.0, ...  \n",
       "\n",
       "[1893736 rows x 6 columns]"
      ]
     },
     "execution_count": 36,
     "metadata": {},
     "output_type": "execute_result"
    }
   ],
   "source": [
    "pd.DataFrame.from_records(train_zarr.agents)"
   ]
  },
  {
   "cell_type": "code",
   "execution_count": 44,
   "metadata": {},
   "outputs": [
    {
     "data": {
      "text/plain": [
       "<models.LyftNet.Kinetic.KineticDataset.KineticDataset at 0x7f35180decd0>"
      ]
     },
     "metadata": {},
     "output_type": "display_data"
    }
   ],
   "source": [
    "display(train_dataset)"
   ]
  },
  {
   "cell_type": "code",
   "execution_count": 118,
   "metadata": {},
   "outputs": [
    {
     "data": {
      "text/plain": [
       "937320.0"
      ]
     },
     "execution_count": 118,
     "metadata": {},
     "output_type": "execute_result"
    }
   ],
   "source": [
    "1874640/2"
   ]
  },
  {
   "cell_type": "code",
   "execution_count": null,
   "metadata": {},
   "outputs": [],
   "source": []
  }
 ],
 "metadata": {
  "kernelspec": {
   "display_name": "Python 3",
   "language": "python",
   "name": "python3"
  },
  "language_info": {
   "codemirror_mode": {
    "name": "ipython",
    "version": 3
   },
   "file_extension": ".py",
   "mimetype": "text/x-python",
   "name": "python",
   "nbconvert_exporter": "python",
   "pygments_lexer": "ipython3",
   "version": "3.8.5"
  }
 },
 "nbformat": 4,
 "nbformat_minor": 4
}
